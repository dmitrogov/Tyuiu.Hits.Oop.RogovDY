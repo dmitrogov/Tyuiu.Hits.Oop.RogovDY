{
 "cells": [
  {
   "cell_type": "markdown",
   "metadata": {},
   "source": [
    "<h1 style=\"color:DodgerBlue\">Индивидальный проект</h1>"
   ]
  },
  {
   "cell_type": "markdown",
   "metadata": {},
   "source": [
    "<h2 style=\"color:DodgerBlue\">Название проекта:</h2>\n",
    "\n",
    "----\n",
    "\n",
    "### Вариант задания №8 \n"
   ]
  },
  {
   "cell_type": "markdown",
   "metadata": {},
   "source": [
    "<h2 style=\"color:DodgerBlue\">Описание проекта:</h2>\n",
    "\n",
    "----\n",
    "\n",
    "**Описание задачи:**  \n",
    "Создать базовый класс ***CreditCard*** в C#, который будет представлять информацию\n",
    "о кредитных картах. На основе этого класса разработать 2-3 производных класса,\n",
    "демонстрирующих принципы наследования и полиморфизма. В каждом из классов\n",
    "должны быть реализованы новые атрибуты и методы, а также переопределены\n",
    "некоторые методы базового класса для демонстрации полиморфизма.\n",
    "     \n",
    "**Требования к базовому классу CreditCard:**  \n",
    "* Атрибуты: Номер карты (***CardNumber***), Холдера (***HolderName***), Срок действия (***ExpiryDate***).  \n",
    "* Методы:  \n",
    "    * ***GetInfo()***: метод для получения информации о кредитной карте в виде строки.  \n",
    "    * ***Pay()***: метод для оплаты покупки с использованием карты.  \n",
    "    * ***CheckBalance()***: метод для проверки баланса на карте.  \n",
    "  \n",
    "**Требования к производным классам:**\n",
    "* GoldCard (***GoldCreditCard***): ДДолжен содержать дополнительные атрибуты,\n",
    "такие как Бесплатные бонусные мили (***BonusMiles***). Метод *Pay()* должен быть переопределен для\n",
    "добавления информации о получении бонусных миль при оплате покупки.\n",
    "* PremiumCard (***PremiumCreditCard***): Должен содержать дополнительные\n",
    "атрибуты, такие как Ассистент поддержки (***SupportAssistant***). Метод *CheckBalance()* долженбыть переопределен для \n",
    "предоставления возможности обратиться за помощью к ассистенту поддержки в случае \n",
    "проблем с балансом.\n",
    "* CorporateCard (***CorporateCreditCard***) (если требуется третий класс):\n",
    "Должен содержать дополнительные атрибуты, такие как Компания\n",
    "(***Company***). Метод *GetInfo()* должен быть переопределен для включения\n",
    "информации в описании карты.\n",
    "\n",
    "#### Дополнительное задание\n",
    "Добавьте к сущестующим классам (базовыму и производным 3-4 атрибута и метода) и реализуйте простое, сложное и множественное наследование"
   ]
  },
  {
   "cell_type": "markdown",
   "metadata": {},
   "source": [
    "<h2 style=\"color:DodgerBlue\">Реализация:</h2>\n",
    "\n",
    "----"
   ]
  },
  {
   "cell_type": "code",
   "execution_count": 1,
   "metadata": {
    "dotnet_interactive": {
     "language": "csharp"
    },
    "polyglot_notebook": {
     "kernelName": "csharp"
    }
   },
   "outputs": [],
   "source": [
    "public class CreditCard\n",
    "{\n",
    "    private string cardNumber;\n",
    "    private string holderName;\n",
    "    private string expiryDate;\n",
    "    protected decimal balance;\n",
    "    private string currency;\n",
    "    private string cardType;\n",
    "    private bool isActive;\n",
    "\n",
    "    public string CardNumber { get => cardNumber; set => cardNumber = value ?? throw new ArgumentNullException(\"CardNumber\"); }\n",
    "    public string HolderName { get => holderName; set => holderName = value ?? throw new ArgumentNullException(\"HolderName\"); }\n",
    "    public string ExpiryDate { get => expiryDate; set => expiryDate = value ?? throw new ArgumentNullException(\"ExpiryDate\"); }\n",
    "    public decimal Balance { get => balance; protected set => balance = value >= 0 ? value : throw new ArgumentException(\"Баланс не может быть отрицательным\"); }\n",
    "    public string Currency { get => currency; set => currency = value ?? \"RUB\"; }\n",
    "    public string CardType { get => cardType; set => cardType = value ?? \"Standard\"; }\n",
    "    public bool IsActive { get => isActive; set => isActive = value; }\n",
    "\n",
    "    public CreditCard() { }\n",
    "\n",
    "    public CreditCard(string cardNumber, string holderName, string expiryDate, decimal balance, string currency, string cardType)\n",
    "    {\n",
    "        CardNumber = cardNumber;\n",
    "        HolderName = holderName;\n",
    "        ExpiryDate = expiryDate;\n",
    "        Balance = balance;\n",
    "        Currency = currency;\n",
    "        CardType = cardType;\n",
    "        IsActive = true;\n",
    "    }\n",
    "\n",
    "    public virtual string GetInfo()\n",
    "    {\n",
    "        return $\"[{CardType}] Карта: {CardNumber}, Владелец: {HolderName}, Срок: {ExpiryDate}, Баланс: {Balance} {Currency}, Активна: {IsActive}\";\n",
    "    }\n",
    "\n",
    "    public virtual void Pay(decimal amount)\n",
    "    {\n",
    "        if (!IsActive) { Console.WriteLine(\"Карта неактивна.\"); return; }\n",
    "        if (amount <= Balance)\n",
    "        {\n",
    "            Balance -= amount;\n",
    "            Console.WriteLine($\"Оплата {amount} {Currency}. Новый баланс: {Balance} {Currency}\");\n",
    "        }\n",
    "        else\n",
    "        {\n",
    "            Console.WriteLine(\"Недостаточно средств.\");\n",
    "        }\n",
    "    }\n",
    "\n",
    "    public virtual void CheckBalance()\n",
    "    {\n",
    "        Console.WriteLine($\"Текущий баланс: {Balance} {Currency}\");\n",
    "    }\n",
    "\n",
    "    public void FreezeCard()\n",
    "    {\n",
    "        IsActive = false;\n",
    "        Console.WriteLine(\"Карта заморожена.\");\n",
    "    }\n",
    "\n",
    "    public void UnfreezeCard()\n",
    "    {\n",
    "        IsActive = true;\n",
    "        Console.WriteLine(\"Карта активирована.\");\n",
    "    }\n",
    "\n",
    "    public void ChangeCurrency(string newCurrency)\n",
    "    {\n",
    "        Currency = newCurrency;\n",
    "        Console.WriteLine($\"Валюта изменена на: {Currency}\");\n",
    "    }\n",
    "}\n"
   ]
  },
  {
   "cell_type": "code",
   "execution_count": 2,
   "metadata": {
    "polyglot_notebook": {
     "kernelName": "csharp"
    }
   },
   "outputs": [],
   "source": [
    "public class GoldCreditCard : CreditCard\n",
    "{\n",
    "    public int BonusMiles { get; set; }\n",
    "    public int CashbackRate { get; set; }\n",
    "    public string TravelInsuranceProvider { get; set; }\n",
    "\n",
    "    public GoldCreditCard(string cardNumber, string holderName, string expiryDate, decimal balance)\n",
    "        : base(cardNumber, holderName, expiryDate, balance, \"RUB\", \"Gold\")\n",
    "    {\n",
    "        BonusMiles = 0;\n",
    "        CashbackRate = 3;\n",
    "        TravelInsuranceProvider = \"AIG\";\n",
    "    }\n",
    "\n",
    "    public override void Pay(decimal amount)\n",
    "    {\n",
    "        base.Pay(amount);\n",
    "        BonusMiles += (int)(amount / 10);\n",
    "        Console.WriteLine($\"Начислено миль: {BonusMiles}\");\n",
    "    }\n",
    "\n",
    "    public void RedeemMiles(int miles)\n",
    "    {\n",
    "        if (miles <= BonusMiles)\n",
    "        {\n",
    "            BonusMiles -= miles;\n",
    "            Console.WriteLine($\"{miles} миль списано. Остаток: {BonusMiles}\");\n",
    "        }\n",
    "        else\n",
    "        {\n",
    "            Console.WriteLine(\"Недостаточно миль.\");\n",
    "        }\n",
    "    }\n",
    "}"
   ]
  },
  {
   "cell_type": "code",
   "execution_count": 3,
   "metadata": {
    "polyglot_notebook": {
     "kernelName": "csharp"
    }
   },
   "outputs": [],
   "source": [
    "public class LoyaltyCreditCard : CreditCard\n",
    "{\n",
    "    public int LoyaltyPoints { get; set; }\n",
    "\n",
    "    public LoyaltyCreditCard(string cardNumber, string holderName, string expiryDate, decimal balance)\n",
    "        : base(cardNumber, holderName, expiryDate, balance, \"RUB\", \"Loyalty\")\n",
    "    {\n",
    "        LoyaltyPoints = 0;\n",
    "    }\n",
    "\n",
    "    public override void Pay(decimal amount)\n",
    "    {\n",
    "        base.Pay(amount);\n",
    "        LoyaltyPoints += (int)(amount / 5);\n",
    "        Console.WriteLine($\"Начислено {amount / 5} баллов лояльности\");\n",
    "    }\n",
    "\n",
    "    public void UsePoints(int points)\n",
    "    {\n",
    "        if (points <= LoyaltyPoints)\n",
    "        {\n",
    "            LoyaltyPoints -= points;\n",
    "            Console.WriteLine($\"Списано {points} баллов\");\n",
    "        }\n",
    "        else\n",
    "        {\n",
    "            Console.WriteLine(\"Недостаточно баллов\");\n",
    "        }\n",
    "    }\n",
    "}\n",
    "\n",
    "public class PremiumLoyaltyCard : LoyaltyCreditCard\n",
    "{\n",
    "    public string ConciergeService { get; set; }\n",
    "\n",
    "    public PremiumLoyaltyCard(string cardNumber, string holderName, string expiryDate, decimal balance, string concierge)\n",
    "        : base(cardNumber, holderName, expiryDate, balance)\n",
    "    {\n",
    "        ConciergeService = concierge;\n",
    "        CardType = \"PremiumLoyalty\";\n",
    "    }\n",
    "\n",
    "    public void RequestConcierge()\n",
    "    {\n",
    "        Console.WriteLine($\"Связь с консьерж-службой: {ConciergeService}\");\n",
    "    }\n",
    "\n",
    "    public override string GetInfo()\n",
    "    {\n",
    "        return base.GetInfo() + $\", Консьерж: {ConciergeService}\";\n",
    "    }\n",
    "}\n"
   ]
  },
  {
   "cell_type": "code",
   "execution_count": 4,
   "metadata": {
    "polyglot_notebook": {
     "kernelName": "csharp"
    }
   },
   "outputs": [],
   "source": [
    "public interface IInsuranceProvider\n",
    "{\n",
    "    void RequestInsuranceInfo();\n",
    "}\n",
    "\n",
    "public interface ICashbackCard\n",
    "{\n",
    "    int CashbackPercent { get; set; }\n",
    "    void GetCashbackInfo();\n",
    "}\n",
    "\n",
    "public class BusinessCard : CreditCard, IInsuranceProvider, ICashbackCard\n",
    "{\n",
    "    public int CashbackPercent { get; set; }\n",
    "    public string InsuranceCompany { get; set; }\n",
    "\n",
    "    public BusinessCard(string number, string holder, string expiry, decimal balance)\n",
    "        : base(number, holder, expiry, balance, \"USD\", \"Business\")\n",
    "    {\n",
    "        CashbackPercent = 5;\n",
    "        InsuranceCompany = \"Ингосстрах\";\n",
    "    }\n",
    "\n",
    "    public void RequestInsuranceInfo()\n",
    "    {\n",
    "        Console.WriteLine($\"Страховая компания: {InsuranceCompany}\");\n",
    "    }\n",
    "\n",
    "    public void GetCashbackInfo()\n",
    "    {\n",
    "        Console.WriteLine($\"Кэшбэк: {CashbackPercent}%\");\n",
    "    }\n",
    "\n",
    "    public override void Pay(decimal amount)\n",
    "    {\n",
    "        base.Pay(amount);\n",
    "        Console.WriteLine($\"Начислено кэшбэка: {(amount * CashbackPercent / 100):F2} USD\");\n",
    "    }\n",
    "}"
   ]
  },
  {
   "cell_type": "code",
   "execution_count": 6,
   "metadata": {
    "polyglot_notebook": {
     "kernelName": "csharp"
    }
   },
   "outputs": [
    {
     "name": "stdout",
     "output_type": "stream",
     "text": [
      "Оплата 300 RUB. Новый баланс: 1700 RUB\n",
      "Начислено миль: 30\n",
      "10 миль списано. Остаток: 20\n",
      "Карта заморожена.\n",
      "Карта неактивна.\n",
      "Начислено миль: 30\n",
      "\n",
      "Оплата 500 RUB. Новый баланс: 1000 RUB\n",
      "Начислено 100 баллов лояльности\n",
      "Связь с консьерж-службой: VIP-Club\n",
      "\n",
      "Оплата 1000 USD. Новый баланс: 9000 USD\n",
      "Начислено кэшбэка: 50.00 USD\n",
      "Страховая компания: Ингосстрах\n",
      "Кэшбэк: 5%\n"
     ]
    }
   ],
   "source": [
    "var gold = new GoldCreditCard(\"1111\", \"Ирина\", \"12/26\", 2000);\n",
    "gold.Pay(300);\n",
    "gold.RedeemMiles(10);\n",
    "gold.FreezeCard();\n",
    "gold.Pay(100);\n",
    "\n",
    "Console.WriteLine();\n",
    "\n",
    "var premium = new PremiumLoyaltyCard(\"2222\", \"Алексей\", \"11/25\", 1500, \"VIP-Club\");\n",
    "premium.Pay(500);\n",
    "premium.RequestConcierge();\n",
    "\n",
    "Console.WriteLine();\n",
    "\n",
    "var business = new BusinessCard(\"3333\", \"ООО Прогресс\", \"10/28\", 10000);\n",
    "business.Pay(1000);\n",
    "business.RequestInsuranceInfo();\n",
    "business.GetCashbackInfo();"
   ]
  }
 ],
 "metadata": {
  "kernelspec": {
   "display_name": ".NET (C#)",
   "language": "C#",
   "name": ".net-csharp"
  },
  "polyglot_notebook": {
   "kernelInfo": {
    "defaultKernelName": "csharp",
    "items": [
     {
      "aliases": [],
      "languageName": "csharp",
      "name": "csharp"
     }
    ]
   }
  }
 },
 "nbformat": 4,
 "nbformat_minor": 2
}
