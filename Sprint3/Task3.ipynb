{
 "cells": [
  {
   "cell_type": "markdown",
   "metadata": {},
   "source": [
    "<h1 style=\"color:DodgerBlue\">Индивидальный проект</h1>"
   ]
  },
  {
   "cell_type": "markdown",
   "metadata": {},
   "source": [
    "<h2 style=\"color:DodgerBlue\">Название проекта:</h2>\n",
    "\n",
    "----\n",
    "\n",
    "### Вариант задания №8\n"
   ]
  },
  {
   "cell_type": "markdown",
   "metadata": {},
   "source": [
    "<h2 style=\"color:DodgerBlue\">Описание проекта:</h2>\n",
    "\n",
    "----\n",
    "\n",
    "**Описание задачи:**  \n",
    "Создать базовый класс ***CreditCard*** в C#, который будет представлять информацию\n",
    "о кредитных картах. На основе этого класса разработать 2-3 производных класса,\n",
    "демонстрирующих принципы наследования и полиморфизма. В каждом из классов\n",
    "должны быть реализованы новые атрибуты и методы, а также переопределены\n",
    "некоторые методы базового класса для демонстрации полиморфизма.\n",
    "     \n",
    "**Требования к базовому классу CreditCard:**  \n",
    "* Атрибуты: Номер карты (***CardNumber***), Холдера (***HolderName***), Срок действия (***ExpiryDate***).  \n",
    "* Методы:  \n",
    "    * ***GetInfo()***: метод для получения информации о кредитной карте в виде строки.  \n",
    "    * ***Pay()***: метод для оплаты покупки с использованием карты.  \n",
    "    * ***CheckBalance()***: метод для проверки баланса на карте.  \n",
    "  \n",
    "**Требования к производным классам:**\n",
    "* GoldCard (***GoldCreditCard***): ДДолжен содержать дополнительные атрибуты,\n",
    "такие как Бесплатные бонусные мили (***BonusMiles***). Метод *Pay()* должен быть переопределен для\n",
    "добавления информации о получении бонусных миль при оплате покупки.\n",
    "* PremiumCard (***PremiumCreditCard***): Должен содержать дополнительные\n",
    "атрибуты, такие как Ассистент поддержки (***SupportAssistant***). Метод *CheckBalance()* долженбыть переопределен для \n",
    "предоставления возможности обратиться за помощью к ассистенту поддержки в случае \n",
    "проблем с балансом.\n",
    "* CorporateCard (***CorporateCreditCard***) (если требуется третий класс):\n",
    "Должен содержать дополнительные атрибуты, такие как Компания\n",
    "(***Company***). Метод *GetInfo()* должен быть переопределен для включения\n",
    "информации в описании карты.\n",
    "\n",
    "#### Дополнительное задание\n",
    "Добавьте к сущестующим классам (базовыму и производным 3-4 атрибута и метода) и реализуйте полиморфизм с перекрытием и прегегрузкой методов, а также generic классы"
   ]
  },
  {
   "cell_type": "markdown",
   "metadata": {},
   "source": [
    "<h2 style=\"color:DodgerBlue\">Реализация:</h2>\n",
    "\n",
    "----"
   ]
  },
  {
   "cell_type": "code",
   "execution_count": 1,
   "metadata": {
    "dotnet_interactive": {
     "language": "csharp"
    },
    "polyglot_notebook": {
     "kernelName": "csharp"
    }
   },
   "outputs": [],
   "source": [
    "public class CreditCard\n",
    "{\n",
    "    private string cardNumber;\n",
    "    private string holderName;\n",
    "    private string expiryDate;\n",
    "    protected decimal balance;\n",
    "\n",
    "    public string Currency { get; set; }\n",
    "    public string Bank { get; set; }\n",
    "    public string CVV { get; set; }\n",
    "    public bool ContactlessEnabled { get; set; }\n",
    "\n",
    "    public string CardNumber\n",
    "    {\n",
    "        get => cardNumber;\n",
    "        set => cardNumber = value ?? \"Unknown\";\n",
    "    }\n",
    "\n",
    "    public string HolderName\n",
    "    {\n",
    "        get => holderName;\n",
    "        set => holderName = value ?? \"Unknown\";\n",
    "    }\n",
    "\n",
    "    public string ExpiryDate\n",
    "    {\n",
    "        get => expiryDate;\n",
    "        set => expiryDate = value ?? \"00/00\";\n",
    "    }\n",
    "\n",
    "    public decimal Balance\n",
    "    {\n",
    "        get => balance;\n",
    "        protected set => balance = value >= 0 ? value : 0;\n",
    "    }\n",
    "\n",
    "    public CreditCard() { }\n",
    "\n",
    "    public CreditCard(string number, string holder, string expiry, decimal balance)\n",
    "    {\n",
    "        CardNumber = number;\n",
    "        HolderName = holder;\n",
    "        ExpiryDate = expiry;\n",
    "        Balance = balance;\n",
    "        Currency = \"RUB\";\n",
    "        Bank = \"BankName\";\n",
    "        CVV = \"000\";\n",
    "        ContactlessEnabled = true;\n",
    "    }\n",
    "\n",
    "    public virtual string GetInfo()\n",
    "    {\n",
    "        return $\"Карта: {CardNumber}, Владелец: {HolderName}, Банк: {Bank}, Баланс: {Balance} {Currency}\";\n",
    "    }\n",
    "\n",
    "    public virtual void Pay(decimal amount)\n",
    "    {\n",
    "        if (amount <= Balance)\n",
    "        {\n",
    "            Balance -= amount;\n",
    "            Console.WriteLine($\"Списано: {amount} {Currency}. Остаток: {Balance} {Currency}\");\n",
    "        }\n",
    "        else\n",
    "        {\n",
    "            Console.WriteLine(\"Недостаточно средств.\");\n",
    "        }\n",
    "    }\n",
    "\n",
    "    // Перегрузка метода Pay\n",
    "    public virtual void Pay(decimal amount, string reason)\n",
    "    {\n",
    "        Console.WriteLine($\"Цель платежа: {reason}\");\n",
    "        Pay(amount);\n",
    "    }\n",
    "\n",
    "    public virtual void CheckBalance()\n",
    "    {\n",
    "        Console.WriteLine($\"Баланс: {Balance} {Currency}\");\n",
    "    }\n",
    "\n",
    "    public void ToggleContactless()\n",
    "    {\n",
    "        ContactlessEnabled = !ContactlessEnabled;\n",
    "        Console.WriteLine($\"Бесконтактная оплата: {(ContactlessEnabled ? \"Включена\" : \"Отключена\")}\");\n",
    "    }\n",
    "}"
   ]
  },
  {
   "cell_type": "code",
   "execution_count": 2,
   "metadata": {
    "polyglot_notebook": {
     "kernelName": "csharp"
    }
   },
   "outputs": [],
   "source": [
    "public class GoldCreditCard : CreditCard\n",
    "{\n",
    "    public int BonusMiles { get; set; }\n",
    "    public decimal MaxCashback { get; set; }\n",
    "    public string InsuranceProvider { get; set; }\n",
    "    public int Level { get; set; }\n",
    "\n",
    "    public GoldCreditCard(string number, string holder, string expiry, decimal balance)\n",
    "        : base(number, holder, expiry, balance)\n",
    "    {\n",
    "        BonusMiles = 0;\n",
    "        MaxCashback = 1000;\n",
    "        InsuranceProvider = \"SOGAZ\";\n",
    "        Level = 1;\n",
    "    }\n",
    "\n",
    "    public override void Pay(decimal amount)\n",
    "    {\n",
    "        base.Pay(amount);\n",
    "        int miles = (int)(amount / 20);\n",
    "        BonusMiles += miles;\n",
    "        Console.WriteLine($\"Бонусных миль начислено: {miles}\");\n",
    "    }\n",
    "\n",
    "    public void Pay(decimal amount, bool useMiles)\n",
    "    {\n",
    "        if (useMiles && BonusMiles > 0)\n",
    "        {\n",
    "            int discount = Math.Min(BonusMiles, (int)amount);\n",
    "            BonusMiles -= discount;\n",
    "            amount -= discount;\n",
    "            Console.WriteLine($\"Использовано {discount} миль. Новая сумма: {amount}\");\n",
    "        }\n",
    "\n",
    "        Pay(amount);\n",
    "    }\n",
    "\n",
    "    public void UpgradeLevel()\n",
    "    {\n",
    "        Level++;\n",
    "        Console.WriteLine($\"Уровень карты повышен до: {Level}\");\n",
    "    }\n",
    "\n",
    "    public void RedeemInsurance()\n",
    "    {\n",
    "        Console.WriteLine($\"Обращение в страховую компанию {InsuranceProvider}\");\n",
    "    }\n",
    "}"
   ]
  },
  {
   "cell_type": "code",
   "execution_count": 3,
   "metadata": {
    "polyglot_notebook": {
     "kernelName": "csharp"
    }
   },
   "outputs": [],
   "source": [
    "public class CardHolder<TCard> where TCard : CreditCard\n",
    "{\n",
    "    public string FullName { get; set; }\n",
    "    public List<TCard> Cards { get; set; }\n",
    "\n",
    "    public CardHolder(string fullName)\n",
    "    {\n",
    "        FullName = fullName;\n",
    "        Cards = new List<TCard>();\n",
    "    }\n",
    "\n",
    "    public void AddCard(TCard card)\n",
    "    {\n",
    "        Cards.Add(card);\n",
    "        Console.WriteLine($\"Добавлена карта для {FullName}\");\n",
    "    }\n",
    "\n",
    "    public void ShowAllCards()\n",
    "    {\n",
    "        Console.WriteLine($\"Карты владельца {FullName}:\");\n",
    "        foreach (var card in Cards)\n",
    "        {\n",
    "            Console.WriteLine(card.GetInfo());\n",
    "        }\n",
    "    }\n",
    "\n",
    "    public void PayWithAll(decimal amount)\n",
    "    {\n",
    "        foreach (var card in Cards)\n",
    "        {\n",
    "            card.Pay(amount);\n",
    "        }\n",
    "    }\n",
    "}"
   ]
  },
  {
   "cell_type": "code",
   "execution_count": 4,
   "metadata": {
    "polyglot_notebook": {
     "kernelName": "csharp"
    }
   },
   "outputs": [
    {
     "name": "stdout",
     "output_type": "stream",
     "text": [
      "Списано: 1000 RUB. Остаток: 4000 RUB\n",
      "Бонусных миль начислено: 50\n",
      "Цель платежа: Оплата в ресторане\n",
      "Списано: 500 RUB. Остаток: 3500 RUB\n",
      "Бонусных миль начислено: 25\n",
      "Использовано 75 миль. Новая сумма: 225\n",
      "Списано: 225 RUB. Остаток: 3275 RUB\n",
      "Бонусных миль начислено: 11\n",
      "Бесконтактная оплата: Отключена\n",
      "Уровень карты повышен до: 2\n",
      "Обращение в страховую компанию SOGAZ\n",
      "\n",
      "Добавлена карта для Ирина Смирнова\n",
      "Карты владельца Ирина Смирнова:\n",
      "Карта: 1111 2222 3333 4444, Владелец: Алексей, Банк: BankName, Баланс: 3275 RUB\n",
      "Списано: 200 RUB. Остаток: 3075 RUB\n",
      "Бонусных миль начислено: 10\n"
     ]
    }
   ],
   "source": [
    "var goldCard = new GoldCreditCard(\"1111 2222 3333 4444\", \"Алексей\", \"12/26\", 5000);\n",
    "goldCard.Pay(1000);\n",
    "goldCard.Pay(500, \"Оплата в ресторане\");\n",
    "goldCard.Pay(300, true); // Используем мили\n",
    "\n",
    "goldCard.ToggleContactless();\n",
    "goldCard.UpgradeLevel();\n",
    "goldCard.RedeemInsurance();\n",
    "\n",
    "Console.WriteLine();\n",
    "\n",
    "var user = new CardHolder<CreditCard>(\"Ирина Смирнова\");\n",
    "user.AddCard(goldCard);\n",
    "user.ShowAllCards();\n",
    "user.PayWithAll(200);"
   ]
  }
 ],
 "metadata": {
  "kernelspec": {
   "display_name": ".NET (C#)",
   "language": "C#",
   "name": ".net-csharp"
  },
  "polyglot_notebook": {
   "kernelInfo": {
    "defaultKernelName": "csharp",
    "items": [
     {
      "aliases": [],
      "languageName": "csharp",
      "name": "csharp"
     }
    ]
   }
  }
 },
 "nbformat": 4,
 "nbformat_minor": 2
}
