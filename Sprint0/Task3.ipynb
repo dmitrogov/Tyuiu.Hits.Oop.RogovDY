{
 "cells": [
  {
   "cell_type": "markdown",
   "metadata": {},
   "source": [
    "<h1 style=\"color:DodgerBlue\">Индивидуальный проект</h1>"
   ]
  },
  {
   "cell_type": "markdown",
   "metadata": {},
   "source": [
    "<h2 style=\"color:DodgerBlue\">Название проекта:</h2>\n",
    "\n",
    "----\n",
    "\n",
    "### Вариант задания №8\n"
   ]
  },
  {
   "cell_type": "markdown",
   "metadata": {},
   "source": [
    "<h2 style=\"color:DodgerBlue\">Описание проекта:</h2>\n",
    "\n",
    "----\n",
    "\n",
    "**Описание задачи:**  \n",
    "Создать базовый класс ***CreditCard*** в C#, который будет представлять информацию\n",
    "о кредитных картах. На основе этого класса разработать 2-3 производных класса,\n",
    "демонстрирующих принципы наследования и полиморфизма. В каждом из классов\n",
    "должны быть реализованы новые атрибуты и методы, а также переопределены\n",
    "некоторые методы базового класса для демонстрации полиморфизма.\n",
    "     \n",
    "**Требования к базовому классу CreditCard:**  \n",
    "* Атрибуты: Номер карты (***CardNumber***), Холдера (***HolderName***), Срок действия (***ExpiryDate***).  \n",
    "* Методы:  \n",
    "    * ***GetInfo()***: метод для получения информации о кредитной карте в виде строки.  \n",
    "    * ***Pay()***: метод для оплаты покупки с использованием карты.  \n",
    "    * ***CheckBalance()***: метод для проверки баланса на карте.  \n",
    "  \n",
    "**Требования к производным классам:**\n",
    "* GoldCard (***GoldCreditCard***): ДДолжен содержать дополнительные атрибуты,\n",
    "такие как Бесплатные бонусные мили (***BonusMiles***). Метод *Pay()* должен быть переопределен для\n",
    "добавления информации о получении бонусных миль при оплате покупки.\n",
    "* PremiumCard (***PremiumCreditCard***): Должен содержать дополнительные\n",
    "атрибуты, такие как Ассистент поддержки (***SupportAssistant***). Метод *CheckBalance()* долженбыть переопределен для \n",
    "предоставления возможности обратиться за помощью к ассистенту поддержки в случае \n",
    "проблем с балансом.\n",
    "* CorporateCard (***CorporateCreditCard***) (если требуется третий класс):\n",
    "Должен содержать дополнительные атрибуты, такие как Компания\n",
    "(***Company***). Метод *GetInfo()* должен быть переопределен для включения\n",
    "информации в описании карты.\n"
   ]
  },
  {
   "cell_type": "markdown",
   "metadata": {},
   "source": [
    "<h2 style=\"color:DodgerBlue\">Реализация:</h2>\n",
    "\n",
    "----"
   ]
  },
  {
   "cell_type": "code",
   "execution_count": 21,
   "metadata": {
    "dotnet_interactive": {
     "language": "csharp"
    },
    "polyglot_notebook": {
     "kernelName": "csharp"
    }
   },
   "outputs": [],
   "source": [
    "public class CreditCard\n",
    "{\n",
    "    public string CardNumber { get; set; }\n",
    "    public string HolderName { get; set; }\n",
    "    public string ExpiryDate { get; set; }\n",
    "    protected decimal Balance { get; set; }\n",
    "\n",
    "    public CreditCard(string cardNumber, string holderName, string expiryDate, decimal initialBalance)\n",
    "    {\n",
    "        CardNumber = cardNumber;\n",
    "        HolderName = holderName;\n",
    "        ExpiryDate = expiryDate;\n",
    "        Balance = initialBalance;\n",
    "    }\n",
    "\n",
    "    public virtual string GetInfo()\n",
    "    {\n",
    "        return $\"Карта: {CardNumber}, Владелец: {HolderName}, Срок действия: {ExpiryDate}\";\n",
    "    }\n",
    "\n",
    "    public virtual void Pay(decimal amount)\n",
    "    {\n",
    "        if (amount <= Balance)\n",
    "        {\n",
    "            Balance -= amount;\n",
    "            Console.WriteLine($\"Оплата на сумму {amount:C} выполнена. Остаток: {Balance:C}\");\n",
    "        }\n",
    "        else\n",
    "        {\n",
    "            Console.WriteLine(\"Недостаточно средств для оплаты.\");\n",
    "        }\n",
    "    }\n",
    "\n",
    "    public virtual void CheckBalance()\n",
    "    {\n",
    "        Console.WriteLine($\"Баланс карты: {Balance:C}\");\n",
    "    }\n",
    "}"
   ]
  },
  {
   "cell_type": "code",
   "execution_count": 22,
   "metadata": {
    "polyglot_notebook": {
     "kernelName": "csharp"
    }
   },
   "outputs": [],
   "source": [
    "public class GoldCreditCard : CreditCard\n",
    "{\n",
    "    public int BonusMiles { get; private set; }\n",
    "\n",
    "    public GoldCreditCard(string cardNumber, string holderName, string expiryDate, decimal initialBalance)\n",
    "        : base(cardNumber, holderName, expiryDate, initialBalance)\n",
    "    {\n",
    "        BonusMiles = 0;\n",
    "    }\n",
    "\n",
    "    public override void Pay(decimal amount)\n",
    "    {\n",
    "        base.Pay(amount);\n",
    "        if (amount <= Balance)\n",
    "        {\n",
    "            int milesEarned = (int)(amount / 10);\n",
    "            BonusMiles += milesEarned;\n",
    "            Console.WriteLine($\"Earned {milesEarned} miles. Total miles: {BonusMiles}\");\n",
    "        }\n",
    "    }\n",
    "}"
   ]
  },
  {
   "cell_type": "code",
   "execution_count": 13,
   "metadata": {
    "polyglot_notebook": {
     "kernelName": "csharp"
    }
   },
   "outputs": [],
   "source": [
    "public class PremiumCreditCard : CreditCard\n",
    "{\n",
    "    public string SupportAssistant { get; set; }\n",
    "\n",
    "    public PremiumCreditCard(string cardNumber, string holderName, string expiryDate, decimal initialBalance, string supportAssistant)\n",
    "        : base(cardNumber, holderName, expiryDate, initialBalance)\n",
    "    {\n",
    "        SupportAssistant = supportAssistant;\n",
    "    }\n",
    "\n",
    "    public override void CheckBalance()\n",
    "    {\n",
    "        base.CheckBalance();\n",
    "        if (Balance < 50) // например, предупреждение при низком балансе\n",
    "        {\n",
    "            Console.WriteLine($\"Внимание: низкий баланс. Обратитесь к вашему ассистенту поддержки: {SupportAssistant}\");\n",
    "        }\n",
    "    }\n",
    "}"
   ]
  },
  {
   "cell_type": "code",
   "execution_count": 14,
   "metadata": {
    "polyglot_notebook": {
     "kernelName": "csharp"
    }
   },
   "outputs": [],
   "source": [
    "public class CorporateCreditCard : CreditCard\n",
    "{\n",
    "    public string Company { get; set; }\n",
    "\n",
    "    public CorporateCreditCard(string cardNumber, string holderName, string expiryDate, decimal initialBalance, string company)\n",
    "        : base(cardNumber, holderName, expiryDate, initialBalance)\n",
    "    {\n",
    "        Company = company;\n",
    "    }\n",
    "\n",
    "    public override string GetInfo()\n",
    "    {\n",
    "        return base.GetInfo() + $\", Компания: {Company}\";\n",
    "    }\n",
    "}"
   ]
  },
  {
   "cell_type": "code",
   "execution_count": 23,
   "metadata": {
    "polyglot_notebook": {
     "kernelName": "csharp"
    }
   },
   "outputs": [
    {
     "name": "stdout",
     "output_type": "stream",
     "text": [
      "Карта: 1234 5678 9012 3456, Владелец: Иван Иванов, Срок действия: 12/25\n",
      "Оплата на сумму ¤100.00 выполнена. Остаток: ¤400.00\n",
      "Баланс карты: ¤400.00\n",
      "\n",
      "Карта: 1111 2222 3333 4444, Владелец: Мария Смирнова, Срок действия: 06/26\n",
      "Оплата на сумму ¤150.00 выполнена. Остаток: ¤850.00\n",
      "Earned 15 miles. Total miles: 15\n",
      "Баланс карты: ¤850.00\n",
      "\n",
      "Карта: 5555 6666 7777 8888, Владелец: Алексей Кузнецов, Срок действия: 09/27\n",
      "Баланс карты: ¤75.00\n",
      "Оплата на сумму ¤30.00 выполнена. Остаток: ¤45.00\n",
      "\n",
      "Карта: 9999 0000 1111 2222, Владелец: OOO 'Tengu', Срок действия: 11/24, Компания: Tengu\n",
      "Баланс карты: ¤2,000.00\n",
      "Оплата на сумму ¤500.00 выполнена. Остаток: ¤1,500.00\n"
     ]
    }
   ],
   "source": [
    "CreditCard basicCard = new CreditCard(\"1234 5678 9012 3456\", \"Иван Иванов\", \"12/25\", 500);\n",
    "GoldCreditCard goldCard = new GoldCreditCard(\"1111 2222 3333 4444\", \"Мария Смирнова\", \"06/26\", 1000);\n",
    "PremiumCreditCard premiumCard = new PremiumCreditCard(\"5555 6666 7777 8888\", \"Алексей Кузнецов\", \"09/27\", 75, \"Елена - личный ассистент\");\n",
    "CorporateCreditCard corporateCard = new CorporateCreditCard(\"9999 0000 1111 2222\", \"OOO 'Tengu'\", \"11/24\", 2000, \"Tengu\");\n",
    "\n",
    "Console.WriteLine(basicCard.GetInfo());\n",
    "basicCard.Pay(100);\n",
    "basicCard.CheckBalance();\n",
    "Console.WriteLine();\n",
    "\n",
    "Console.WriteLine(goldCard.GetInfo());\n",
    "goldCard.Pay(150);\n",
    "goldCard.CheckBalance();\n",
    "Console.WriteLine();\n",
    "\n",
    "Console.WriteLine(premiumCard.GetInfo());\n",
    "premiumCard.CheckBalance();\n",
    "premiumCard.Pay(30);\n",
    "Console.WriteLine();\n",
    "\n",
    "Console.WriteLine(corporateCard.GetInfo());\n",
    "corporateCard.CheckBalance();\n",
    "corporateCard.Pay(500);"
   ]
  }
 ],
 "metadata": {
  "kernelspec": {
   "display_name": ".NET (C#)",
   "language": "C#",
   "name": ".net-csharp"
  },
  "polyglot_notebook": {
   "kernelInfo": {
    "defaultKernelName": "csharp",
    "items": [
     {
      "aliases": [],
      "languageName": "csharp",
      "name": "csharp"
     }
    ]
   }
  }
 },
 "nbformat": 4,
 "nbformat_minor": 2
}
