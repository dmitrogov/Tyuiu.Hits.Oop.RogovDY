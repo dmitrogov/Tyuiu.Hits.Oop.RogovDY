{
 "cells": [
  {
   "cell_type": "markdown",
   "metadata": {},
   "source": [
    "<h1 style=\"color:DodgerBlue\">Индивидальный проект</h1>"
   ]
  },
  {
   "cell_type": "markdown",
   "metadata": {},
   "source": [
    "<h2 style=\"color:DodgerBlue\">Название проекта:</h2>\n",
    "\n",
    "----\n",
    "\n",
    "### Вариант задания №8\n"
   ]
  },
  {
   "cell_type": "markdown",
   "metadata": {},
   "source": [
    "<h2 style=\"color:DodgerBlue\">Описание проекта:</h2>\n",
    "\n",
    "----\n",
    "\n",
    "**Описание задачи:**  \n",
    "Создать базовый класс ***CreditCard*** в C#, который будет представлять информацию\n",
    "о кредитных картах. На основе этого класса разработать 2-3 производных класса,\n",
    "демонстрирующих принципы наследования и полиморфизма. В каждом из классов\n",
    "должны быть реализованы новые атрибуты и методы, а также переопределены\n",
    "некоторые методы базового класса для демонстрации полиморфизма.\n",
    "     \n",
    "**Требования к базовому классу CreditCard:**  \n",
    "* Атрибуты: Номер карты (***CardNumber***), Холдера (***HolderName***), Срок действия (***ExpiryDate***).  \n",
    "* Методы:  \n",
    "    * ***GetInfo()***: метод для получения информации о кредитной карте в виде строки.  \n",
    "    * ***Pay()***: метод для оплаты покупки с использованием карты.  \n",
    "    * ***CheckBalance()***: метод для проверки баланса на карте.  \n",
    "  \n",
    "**Требования к производным классам:**\n",
    "* GoldCard (***GoldCreditCard***): ДДолжен содержать дополнительные атрибуты,\n",
    "такие как Бесплатные бонусные мили (***BonusMiles***). Метод *Pay()* должен быть переопределен для\n",
    "добавления информации о получении бонусных миль при оплате покупки.\n",
    "* PremiumCard (***PremiumCreditCard***): Должен содержать дополнительные\n",
    "атрибуты, такие как Ассистент поддержки (***SupportAssistant***). Метод *CheckBalance()* долженбыть переопределен для \n",
    "предоставления возможности обратиться за помощью к ассистенту поддержки в случае \n",
    "проблем с балансом.\n",
    "* CorporateCard (***CorporateCreditCard***) (если требуется третий класс):\n",
    "Должен содержать дополнительные атрибуты, такие как Компания\n",
    "(***Company***). Метод *GetInfo()* должен быть переопределен для включения\n",
    "информации в описании карты.\n",
    "\n",
    "#### Дополнительное задание\n",
    "Добавьте к сущестующим классам (базовыму и производным 3-4 атрибута и метода) создайте явную реализации интерфейса и управление зависимостями \n"
   ]
  },
  {
   "cell_type": "markdown",
   "metadata": {},
   "source": [
    "<h2 style=\"color:DodgerBlue\">Реализация:</h2>\n",
    "\n",
    "----"
   ]
  },
  {
   "cell_type": "code",
   "execution_count": 1,
   "metadata": {
    "dotnet_interactive": {
     "language": "csharp"
    },
    "polyglot_notebook": {
     "kernelName": "csharp"
    }
   },
   "outputs": [],
   "source": [
    "public interface ICreditOperations\n",
    "{\n",
    "    void MakePayment(decimal amount);\n",
    "    void ShowCardInfo();\n",
    "    decimal GetCurrentBalance();\n",
    "}\n"
   ]
  },
  {
   "cell_type": "code",
   "execution_count": 2,
   "metadata": {
    "polyglot_notebook": {
     "kernelName": "csharp"
    }
   },
   "outputs": [],
   "source": [
    "public class CreditCard : ICreditOperations\n",
    "{\n",
    "    private string cardNumber;\n",
    "    private string holderName;\n",
    "    private string expiryDate;\n",
    "    protected decimal balance;\n",
    "\n",
    "    public string Currency { get; set; }\n",
    "    public string Bank { get; set; }\n",
    "    public string CVV { get; set; }\n",
    "    public bool ContactlessEnabled { get; set; }\n",
    "    public bool IsBlocked { get; set; }\n",
    "    public DateTime ActivationDate { get; set; }\n",
    "\n",
    "    public string CardNumber\n",
    "    {\n",
    "        get => cardNumber;\n",
    "        set => cardNumber = value ?? \"Unknown\";\n",
    "    }\n",
    "\n",
    "    public string HolderName\n",
    "    {\n",
    "        get => holderName;\n",
    "        set => holderName = value ?? \"Unknown\";\n",
    "    }\n",
    "\n",
    "    public string ExpiryDate\n",
    "    {\n",
    "        get => expiryDate;\n",
    "        set => expiryDate = value ?? \"00/00\";\n",
    "    }\n",
    "\n",
    "    public decimal Balance\n",
    "    {\n",
    "        get => balance;\n",
    "        protected set => balance = value >= 0 ? value : 0;\n",
    "    }\n",
    "\n",
    "    public CreditCard() { }\n",
    "\n",
    "    public CreditCard(string number, string holder, string expiry, decimal balance)\n",
    "    {\n",
    "        CardNumber = number;\n",
    "        HolderName = holder;\n",
    "        ExpiryDate = expiry;\n",
    "        Balance = balance;\n",
    "        Currency = \"RUB\";\n",
    "        Bank = \"BankName\";\n",
    "        CVV = \"000\";\n",
    "        ContactlessEnabled = true;\n",
    "        IsBlocked = false;\n",
    "        ActivationDate = DateTime.Now;\n",
    "    }\n",
    "\n",
    "    public virtual string GetInfo()\n",
    "    {\n",
    "        return $\"[{Bank}] {CardNumber} — {HolderName}, Баланс: {Balance} {Currency}\";\n",
    "    }\n",
    "\n",
    "    public virtual void Pay(decimal amount)\n",
    "    {\n",
    "        if (IsBlocked)\n",
    "        {\n",
    "            Console.WriteLine(\"Карта заблокирована. Операция невозможна.\");\n",
    "            return;\n",
    "        }\n",
    "\n",
    "        if (amount <= Balance)\n",
    "        {\n",
    "            Balance -= amount;\n",
    "            Console.WriteLine($\"Оплачено {amount} {Currency}. Остаток: {Balance}\");\n",
    "        }\n",
    "        else\n",
    "        {\n",
    "            Console.WriteLine(\"Недостаточно средств.\");\n",
    "        }\n",
    "    }\n",
    "\n",
    "    public virtual void CheckBalance()\n",
    "    {\n",
    "        Console.WriteLine($\"Текущий баланс: {Balance} {Currency}\");\n",
    "    }\n",
    "\n",
    "    public void BlockCard() => IsBlocked = true;\n",
    "    public void UnblockCard() => IsBlocked = false;\n",
    "    public void ToggleContactless() => ContactlessEnabled = !ContactlessEnabled;\n",
    "\n",
    "    // Явная реализация интерфейса\n",
    "    void ICreditOperations.MakePayment(decimal amount) => Pay(amount);\n",
    "    void ICreditOperations.ShowCardInfo() => Console.WriteLine(GetInfo());\n",
    "    decimal ICreditOperations.GetCurrentBalance() => Balance;\n",
    "}\n"
   ]
  },
  {
   "cell_type": "code",
   "execution_count": 3,
   "metadata": {
    "polyglot_notebook": {
     "kernelName": "csharp"
    }
   },
   "outputs": [],
   "source": [
    "public class GoldCreditCard : CreditCard\n",
    "{\n",
    "    public int BonusMiles { get; set; }\n",
    "    public string InsuranceCompany { get; set; }\n",
    "    public int RewardLevel { get; set; }\n",
    "    public decimal CashbackLimit { get; set; }\n",
    "\n",
    "    public GoldCreditCard(string number, string holder, string expiry, decimal balance)\n",
    "        : base(number, holder, expiry, balance)\n",
    "    {\n",
    "        BonusMiles = 0;\n",
    "        RewardLevel = 1;\n",
    "        InsuranceCompany = \"SOGAZ\";\n",
    "        CashbackLimit = 2000;\n",
    "    }\n",
    "\n",
    "    public override void Pay(decimal amount)\n",
    "    {\n",
    "        base.Pay(amount);\n",
    "        int milesEarned = (int)(amount / 30);\n",
    "        BonusMiles += milesEarned;\n",
    "        Console.WriteLine($\"Начислено {milesEarned} миль. Итого миль: {BonusMiles}\");\n",
    "    }\n",
    "\n",
    "    public void UpgradeLevel()\n",
    "    {\n",
    "        RewardLevel++;\n",
    "        Console.WriteLine($\"Уровень привилегий повышен до {RewardLevel}\");\n",
    "    }\n",
    "\n",
    "    public void UseInsurance()\n",
    "    {\n",
    "        Console.WriteLine($\"Связь со страховой компанией {InsuranceCompany} для возмещения.\");\n",
    "    }\n",
    "\n",
    "    public void RedeemMiles(int count)\n",
    "    {\n",
    "        if (count <= BonusMiles)\n",
    "        {\n",
    "            BonusMiles -= count;\n",
    "            Console.WriteLine($\"Списано {count} миль. Осталось: {BonusMiles}\");\n",
    "        }\n",
    "        else\n",
    "        {\n",
    "            Console.WriteLine(\"Недостаточно миль.\");\n",
    "        }\n",
    "    }\n",
    "}\n"
   ]
  },
  {
   "cell_type": "code",
   "execution_count": 4,
   "metadata": {
    "polyglot_notebook": {
     "kernelName": "csharp"
    }
   },
   "outputs": [],
   "source": [
    "public class PaymentService\n",
    "{\n",
    "    private readonly ICreditOperations _creditCard;\n",
    "\n",
    "    public PaymentService(ICreditOperations creditCard)\n",
    "    {\n",
    "        _creditCard = creditCard;\n",
    "    }\n",
    "\n",
    "    public void ExecutePayment(decimal amount)\n",
    "    {\n",
    "        _creditCard.MakePayment(amount);\n",
    "    }\n",
    "\n",
    "    public void ShowCardDetails()\n",
    "    {\n",
    "        _creditCard.ShowCardInfo();\n",
    "    }\n",
    "\n",
    "    public void ShowBalance()\n",
    "    {\n",
    "        Console.WriteLine($\"Баланс по карте: {_creditCard.GetCurrentBalance()}\");\n",
    "    }\n",
    "}\n"
   ]
  },
  {
   "cell_type": "code",
   "execution_count": 5,
   "metadata": {
    "polyglot_notebook": {
     "kernelName": "csharp"
    }
   },
   "outputs": [
    {
     "name": "stdout",
     "output_type": "stream",
     "text": [
      "[BankName] 5555 8888 9999 1111 — Мария Иванова, Баланс: 8000 RUB\n",
      "Оплачено 1500 RUB. Остаток: 6500\n",
      "Начислено 50 миль. Итого миль: 50\n",
      "Баланс по карте: 6500\n",
      "Уровень привилегий повышен до 2\n",
      "Связь со страховой компанией SOGAZ для возмещения.\n",
      "Списано 20 миль. Осталось: 30\n",
      "Оплачено 500 RUB. Остаток: 6000\n",
      "Начислено 16 миль. Итого миль: 46\n"
     ]
    }
   ],
   "source": [
    "GoldCreditCard gold = new GoldCreditCard(\"5555 8888 9999 1111\", \"Мария Иванова\", \"12/26\", 8000m);\n",
    "        \n",
    "// Внедрение зависимости\n",
    "PaymentService service = new PaymentService(gold);\n",
    "\n",
    "service.ShowCardDetails();\n",
    "service.ExecutePayment(1500);\n",
    "service.ShowBalance();\n",
    "\n",
    "// Методы GoldCard\n",
    "gold.UpgradeLevel();\n",
    "gold.UseInsurance();\n",
    "gold.RedeemMiles(20);\n",
    "\n",
    "// Интерфейс явно вызывается только через ICreditOperations\n",
    "ICreditOperations icard = gold;\n",
    "icard.MakePayment(500);"
   ]
  }
 ],
 "metadata": {
  "kernelspec": {
   "display_name": ".NET (C#)",
   "language": "C#",
   "name": ".net-csharp"
  },
  "polyglot_notebook": {
   "kernelInfo": {
    "defaultKernelName": "csharp",
    "items": [
     {
      "aliases": [],
      "languageName": "csharp",
      "name": "csharp"
     }
    ]
   }
  }
 },
 "nbformat": 4,
 "nbformat_minor": 2
}
