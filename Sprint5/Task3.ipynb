{
 "cells": [
  {
   "cell_type": "markdown",
   "metadata": {},
   "source": [
    "<h1 style=\"color:DodgerBlue\">Индивидальный проект</h1>"
   ]
  },
  {
   "cell_type": "markdown",
   "metadata": {},
   "source": [
    "<h2 style=\"color:DodgerBlue\">Название проекта:</h2>\n",
    "\n",
    "----\n",
    "\n",
    "### Вариант задания №8\n"
   ]
  },
  {
   "cell_type": "markdown",
   "metadata": {},
   "source": [
    "<h2 style=\"color:DodgerBlue\">Описание проекта:</h2>\n",
    "\n",
    "----\n",
    "\n",
    "**Описание задачи:**  \n",
    "Создать базовый класс ***CreditCard*** в C#, который будет представлять информацию\n",
    "о кредитных картах. На основе этого класса разработать 2-3 производных класса,\n",
    "демонстрирующих принципы наследования и полиморфизма. В каждом из классов\n",
    "должны быть реализованы новые атрибуты и методы, а также переопределены\n",
    "некоторые методы базового класса для демонстрации полиморфизма.\n",
    "     \n",
    "**Требования к базовому классу CreditCard:**  \n",
    "* Атрибуты: Номер карты (***CardNumber***), Холдера (***HolderName***), Срок действия (***ExpiryDate***).  \n",
    "* Методы:  \n",
    "    * ***GetInfo()***: метод для получения информации о кредитной карте в виде строки.  \n",
    "    * ***Pay()***: метод для оплаты покупки с использованием карты.  \n",
    "    * ***CheckBalance()***: метод для проверки баланса на карте.  \n",
    "  \n",
    "**Требования к производным классам:**\n",
    "* GoldCard (***GoldCreditCard***): ДДолжен содержать дополнительные атрибуты,\n",
    "такие как Бесплатные бонусные мили (***BonusMiles***). Метод *Pay()* должен быть переопределен для\n",
    "добавления информации о получении бонусных миль при оплате покупки.\n",
    "* PremiumCard (***PremiumCreditCard***): Должен содержать дополнительные\n",
    "атрибуты, такие как Ассистент поддержки (***SupportAssistant***). Метод *CheckBalance()* долженбыть переопределен для \n",
    "предоставления возможности обратиться за помощью к ассистенту поддержки в случае \n",
    "проблем с балансом.\n",
    "* CorporateCard (***CorporateCreditCard***) (если требуется третий класс):\n",
    "Должен содержать дополнительные атрибуты, такие как Компания\n",
    "(***Company***). Метод *GetInfo()* должен быть переопределен для включения\n",
    "информации в описании карты.\n",
    "\n",
    "#### Дополнительное задание\n",
    "Добавьте к сущестующим классам (базовыму и производным 3-4 атрибута и метода) исользуйтие в проекте коллекции, делегаты, события.\n"
   ]
  },
  {
   "cell_type": "markdown",
   "metadata": {},
   "source": [
    "<h2 style=\"color:DodgerBlue\">Реализация:</h2>\n",
    "\n",
    "----"
   ]
  },
  {
   "cell_type": "code",
   "execution_count": 1,
   "metadata": {
    "polyglot_notebook": {
     "kernelName": "csharp"
    }
   },
   "outputs": [],
   "source": [
    "public delegate void CardEventHandler(string message);\n",
    "\n",
    "public class CreditCard\n",
    "{\n",
    "    public event CardEventHandler LowBalanceEvent;\n",
    "    public event CardEventHandler PaymentSuccessEvent;\n",
    "\n",
    "    public string CardNumber { get; set; }\n",
    "    public string HolderName { get; set; }\n",
    "    public string ExpiryDate { get; set; }\n",
    "    public decimal Balance { get; protected set; }\n",
    "    public string Currency { get; set; }\n",
    "    public string Bank { get; set; }\n",
    "\n",
    "    public DateTime CreatedDate { get; set; }\n",
    "    public bool IsActive { get; private set; }\n",
    "    public string Country { get; set; }\n",
    "    public string CardType { get; set; }\n",
    "\n",
    "    public CreditCard(string cardNumber, string holderName, string expiryDate, decimal balance)\n",
    "    {\n",
    "        CardNumber = cardNumber;\n",
    "        HolderName = holderName;\n",
    "        ExpiryDate = expiryDate;\n",
    "        Balance = balance;\n",
    "        Currency = \"RUB\";\n",
    "        Bank = \"Default Bank\";\n",
    "        Country = \"Russia\";\n",
    "        CreatedDate = DateTime.Now;\n",
    "        IsActive = true;\n",
    "        CardType = \"Basic\";\n",
    "    }\n",
    "\n",
    "    public virtual string GetInfo()\n",
    "    {\n",
    "        return $\"[{CardType}] {CardNumber} - {HolderName}, Баланс: {Balance} {Currency}\";\n",
    "    }\n",
    "\n",
    "    public virtual void Pay(decimal amount)\n",
    "    {\n",
    "        if (!IsActive)\n",
    "        {\n",
    "            Console.WriteLine(\"Карта неактивна!\");\n",
    "            return;\n",
    "        }\n",
    "\n",
    "        if (amount <= Balance)\n",
    "        {\n",
    "            Balance -= amount;\n",
    "            PaymentSuccessEvent?.Invoke($\"Успешная оплата на сумму {amount}. Остаток: {Balance}\");\n",
    "            if (Balance < 1000)\n",
    "            {\n",
    "                LowBalanceEvent?.Invoke(\"Внимание: низкий баланс на карте!\");\n",
    "            }\n",
    "        }\n",
    "        else\n",
    "        {\n",
    "            Console.WriteLine(\"Недостаточно средств.\");\n",
    "        }\n",
    "    }\n",
    "\n",
    "    public void Activate() => IsActive = true;\n",
    "    public void Deactivate() => IsActive = false;\n",
    "\n",
    "    public virtual void CheckBalance() => Console.WriteLine($\"Баланс: {Balance} {Currency}\");\n",
    "}\n"
   ]
  },
  {
   "cell_type": "code",
   "execution_count": 2,
   "metadata": {
    "polyglot_notebook": {
     "kernelName": "csharp"
    }
   },
   "outputs": [],
   "source": [
    "public class GoldCreditCard : CreditCard\n",
    "{\n",
    "    public int BonusPoints { get; set; }\n",
    "    public decimal CashbackPercent { get; set; }\n",
    "    public string LoungeAccessProvider { get; set; }\n",
    "    public List<string> PurchaseHistory { get; set; }\n",
    "\n",
    "    public GoldCreditCard(string cardNumber, string holderName, string expiryDate, decimal balance)\n",
    "        : base(cardNumber, holderName, expiryDate, balance)\n",
    "    {\n",
    "        BonusPoints = 0;\n",
    "        CashbackPercent = 2;\n",
    "        LoungeAccessProvider = \"Priority Pass\";\n",
    "        PurchaseHistory = new List<string>();\n",
    "        CardType = \"Gold\";\n",
    "    }\n",
    "\n",
    "    public override void Pay(decimal amount)\n",
    "    {\n",
    "        base.Pay(amount);\n",
    "        int bonus = (int)(amount / 50);\n",
    "        BonusPoints += bonus;\n",
    "        PurchaseHistory.Add($\"Покупка на {amount} - начислено {bonus} бонусов\");\n",
    "    }\n",
    "\n",
    "    public void ShowPurchaseHistory()\n",
    "    {\n",
    "        Console.WriteLine(\"История покупок:\");\n",
    "        foreach (var p in PurchaseHistory)\n",
    "            Console.WriteLine($\"- {p}\");\n",
    "    }\n",
    "\n",
    "    public void AccessLounge()\n",
    "    {\n",
    "        Console.WriteLine($\"Доступ в зал ожидания от {LoungeAccessProvider}\");\n",
    "    }\n",
    "}\n"
   ]
  },
  {
   "cell_type": "code",
   "execution_count": 3,
   "metadata": {
    "polyglot_notebook": {
     "kernelName": "csharp"
    }
   },
   "outputs": [],
   "source": [
    "public class CardManager\n",
    "{\n",
    "    private Dictionary<string, CreditCard> cards = new Dictionary<string, CreditCard>();\n",
    "\n",
    "    public void AddCard(CreditCard card)\n",
    "    {\n",
    "        if (!cards.ContainsKey(card.CardNumber))\n",
    "        {\n",
    "            cards.Add(card.CardNumber, card);\n",
    "            Console.WriteLine($\"Карта {card.CardNumber} добавлена.\");\n",
    "        }\n",
    "        else\n",
    "        {\n",
    "            Console.WriteLine(\"Карта уже существует.\");\n",
    "        }\n",
    "    }\n",
    "\n",
    "    public void ShowAllCards()\n",
    "    {\n",
    "        Console.WriteLine(\"Список всех карт:\");\n",
    "        foreach (var card in cards.Values)\n",
    "        {\n",
    "            Console.WriteLine(card.GetInfo());\n",
    "        }\n",
    "    }\n",
    "\n",
    "    public CreditCard GetCard(string number)\n",
    "    {\n",
    "        return cards.TryGetValue(number, out var card) ? card : null;\n",
    "    }\n",
    "}\n"
   ]
  },
  {
   "cell_type": "code",
   "execution_count": 4,
   "metadata": {
    "polyglot_notebook": {
     "kernelName": "csharp"
    }
   },
   "outputs": [
    {
     "name": "stdout",
     "output_type": "stream",
     "text": [
      "Карта 5555 9999 0000 1111 добавлена.\n",
      "СОБЫТИЕ: Успешная оплата на сумму 1000. Остаток: 4000\n",
      "СОБЫТИЕ: Успешная оплата на сумму 4000. Остаток: 0\n",
      "СОБЫТИЕ: Внимание: низкий баланс на карте!\n",
      "Баланс: 0 RUB\n",
      "История покупок:\n",
      "- Покупка на 1000 - начислено 20 бонусов\n",
      "- Покупка на 4000 - начислено 80 бонусов\n",
      "Доступ в зал ожидания от Priority Pass\n",
      "\n",
      "Список всех карт:\n",
      "[Gold] 5555 9999 0000 1111 - Алексей, Баланс: 0 RUB\n"
     ]
    }
   ],
   "source": [
    "GoldCreditCard gold = new GoldCreditCard(\"5555 9999 0000 1111\", \"Алексей\", \"10/26\", 5000);\n",
    "\n",
    "// Подписка на события\n",
    "gold.LowBalanceEvent += msg => Console.WriteLine(\"СОБЫТИЕ: \" + msg);\n",
    "gold.PaymentSuccessEvent += msg => Console.WriteLine(\"СОБЫТИЕ: \" + msg);\n",
    "\n",
    "CardManager manager = new CardManager();\n",
    "manager.AddCard(gold);\n",
    "\n",
    "// Использование методов\n",
    "gold.Pay(1000);\n",
    "gold.Pay(4000);  // вызовет LowBalanceEvent\n",
    "gold.CheckBalance();\n",
    "gold.ShowPurchaseHistory();\n",
    "gold.AccessLounge();\n",
    "\n",
    "Console.WriteLine();\n",
    "\n",
    "manager.ShowAllCards();"
   ]
  }
 ],
 "metadata": {
  "kernelspec": {
   "display_name": ".NET (C#)",
   "language": "C#",
   "name": ".net-csharp"
  },
  "polyglot_notebook": {
   "kernelInfo": {
    "defaultKernelName": "csharp",
    "items": [
     {
      "aliases": [],
      "languageName": "csharp",
      "name": "csharp"
     }
    ]
   }
  }
 },
 "nbformat": 4,
 "nbformat_minor": 2
}
